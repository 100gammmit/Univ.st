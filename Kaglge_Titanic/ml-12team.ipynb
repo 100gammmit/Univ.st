{
 "cells": [
  {
   "cell_type": "code",
   "execution_count": 1,
   "id": "81e70b09",
   "metadata": {
    "_cell_guid": "b1076dfc-b9ad-4769-8c92-a6c4dae69d19",
    "_uuid": "8f2839f25d086af736a60e9eeb907d3b93b6e0e5",
    "execution": {
     "iopub.execute_input": "2022-06-05T10:16:49.791639Z",
     "iopub.status.busy": "2022-06-05T10:16:49.791239Z",
     "iopub.status.idle": "2022-06-05T10:16:51.151160Z",
     "shell.execute_reply": "2022-06-05T10:16:51.150260Z"
    },
    "papermill": {
     "duration": 1.397168,
     "end_time": "2022-06-05T10:16:51.153742",
     "exception": false,
     "start_time": "2022-06-05T10:16:49.756574",
     "status": "completed"
    },
    "tags": []
   },
   "outputs": [
    {
     "name": "stdout",
     "output_type": "stream",
     "text": [
      "/kaggle/input/titanic/train.csv\n",
      "/kaggle/input/titanic/test.csv\n",
      "/kaggle/input/titanic/gender_submission.csv\n"
     ]
    }
   ],
   "source": [
    "# This Python 3 environment comes with many helpful analytics libraries installed\n",
    "# It is defined by the kaggle/python Docker image: https://github.com/kaggle/docker-python\n",
    "# For example, here's several helpful packages to load\n",
    "\n",
    "import numpy as np # linear algebra\n",
    "import pandas as pd # data processing, CSV file I/O (e.g. pd.read_csv)\n",
    "\n",
    "# Input data files are available in the read-only \"../input/\" directory\n",
    "# For example, running this (by clicking run or pressing Shift+Enter) will list all files under the input directory\n",
    "\n",
    "import os\n",
    "for dirname, _, filenames in os.walk('/kaggle/input'):\n",
    "    for filename in filenames:\n",
    "        print(os.path.join(dirname, filename))\n",
    "\n",
    "import warnings\n",
    "warnings.filterwarnings(action='ignore')\n",
    "from sklearn.linear_model import LogisticRegression\n",
    "from sklearn.ensemble import RandomForestClassifier\n",
    "from sklearn.neighbors import KNeighborsClassifier\n",
    "from sklearn.linear_model import SGDClassifier\n",
    "from sklearn.tree import DecisionTreeClassifier\n",
    "from sklearn.model_selection import cross_validate\n",
    "from sklearn.model_selection import GridSearchCV\n",
    "from sklearn.preprocessing import StandardScaler\n",
    "\n",
    "# You can write up to 20GB to the current directory (/kaggle/working/) that gets preserved as output when you create a version using \"Save & Run All\" \n",
    "# You can also write temporary files to /kaggle/temp/, but they won't be saved outside of the current session"
   ]
  },
  {
   "cell_type": "code",
   "execution_count": 2,
   "id": "f977b791",
   "metadata": {
    "execution": {
     "iopub.execute_input": "2022-06-05T10:16:51.220538Z",
     "iopub.status.busy": "2022-06-05T10:16:51.219873Z",
     "iopub.status.idle": "2022-06-05T10:16:51.272030Z",
     "shell.execute_reply": "2022-06-05T10:16:51.271149Z"
    },
    "papermill": {
     "duration": 0.088297,
     "end_time": "2022-06-05T10:16:51.274852",
     "exception": false,
     "start_time": "2022-06-05T10:16:51.186555",
     "status": "completed"
    },
    "tags": []
   },
   "outputs": [
    {
     "name": "stdout",
     "output_type": "stream",
     "text": [
      "<class 'pandas.core.frame.DataFrame'>\n",
      "RangeIndex: 891 entries, 0 to 890\n",
      "Data columns (total 12 columns):\n",
      " #   Column       Non-Null Count  Dtype  \n",
      "---  ------       --------------  -----  \n",
      " 0   PassengerId  891 non-null    int64  \n",
      " 1   Survived     891 non-null    int64  \n",
      " 2   Pclass       891 non-null    int64  \n",
      " 3   Name         891 non-null    object \n",
      " 4   Sex          891 non-null    object \n",
      " 5   Age          714 non-null    float64\n",
      " 6   SibSp        891 non-null    int64  \n",
      " 7   Parch        891 non-null    int64  \n",
      " 8   Ticket       891 non-null    object \n",
      " 9   Fare         891 non-null    float64\n",
      " 10  Cabin        204 non-null    object \n",
      " 11  Embarked     889 non-null    object \n",
      "dtypes: float64(2), int64(5), object(5)\n",
      "memory usage: 83.7+ KB\n"
     ]
    }
   ],
   "source": [
    "train = pd.read_csv('/kaggle/input/titanic/train.csv')\n",
    "test = pd.read_csv('/kaggle/input/titanic/test.csv')\n",
    "#데이터 불러온 후,\n",
    "train.info()\n",
    "#데이터 특성 확인"
   ]
  },
  {
   "cell_type": "code",
   "execution_count": 3,
   "id": "2358ba5c",
   "metadata": {
    "execution": {
     "iopub.execute_input": "2022-06-05T10:16:51.341985Z",
     "iopub.status.busy": "2022-06-05T10:16:51.341600Z",
     "iopub.status.idle": "2022-06-05T10:16:51.345615Z",
     "shell.execute_reply": "2022-06-05T10:16:51.344984Z"
    },
    "papermill": {
     "duration": 0.0395,
     "end_time": "2022-06-05T10:16:51.347444",
     "exception": false,
     "start_time": "2022-06-05T10:16:51.307944",
     "status": "completed"
    },
    "tags": []
   },
   "outputs": [],
   "source": [
    "train_and_test = [train, test]\n",
    "#전체적인 데이터 전처리를 위한 데이터 합체"
   ]
  },
  {
   "cell_type": "markdown",
   "id": "224b5561",
   "metadata": {
    "papermill": {
     "duration": 0.031533,
     "end_time": "2022-06-05T10:16:51.412177",
     "exception": false,
     "start_time": "2022-06-05T10:16:51.380644",
     "status": "completed"
    },
    "tags": []
   },
   "source": [
    "# 데이터 전처리\n",
    "특성별로 노트를 나누고 노트의 마지막엔 'Survived'특성과 교차정보 수집"
   ]
  },
  {
   "cell_type": "code",
   "execution_count": 4,
   "id": "99443f36",
   "metadata": {
    "execution": {
     "iopub.execute_input": "2022-06-05T10:16:51.477952Z",
     "iopub.status.busy": "2022-06-05T10:16:51.477583Z",
     "iopub.status.idle": "2022-06-05T10:16:51.524096Z",
     "shell.execute_reply": "2022-06-05T10:16:51.523183Z"
    },
    "papermill": {
     "duration": 0.082209,
     "end_time": "2022-06-05T10:16:51.526309",
     "exception": false,
     "start_time": "2022-06-05T10:16:51.444100",
     "status": "completed"
    },
    "tags": []
   },
   "outputs": [
    {
     "data": {
      "text/html": [
       "<div>\n",
       "<style scoped>\n",
       "    .dataframe tbody tr th:only-of-type {\n",
       "        vertical-align: middle;\n",
       "    }\n",
       "\n",
       "    .dataframe tbody tr th {\n",
       "        vertical-align: top;\n",
       "    }\n",
       "\n",
       "    .dataframe thead th {\n",
       "        text-align: right;\n",
       "    }\n",
       "</style>\n",
       "<table border=\"1\" class=\"dataframe\">\n",
       "  <thead>\n",
       "    <tr style=\"text-align: right;\">\n",
       "      <th>Sex</th>\n",
       "      <th>0</th>\n",
       "      <th>1</th>\n",
       "    </tr>\n",
       "    <tr>\n",
       "      <th>Survived</th>\n",
       "      <th></th>\n",
       "      <th></th>\n",
       "    </tr>\n",
       "  </thead>\n",
       "  <tbody>\n",
       "    <tr>\n",
       "      <th>0</th>\n",
       "      <td>81</td>\n",
       "      <td>468</td>\n",
       "    </tr>\n",
       "    <tr>\n",
       "      <th>1</th>\n",
       "      <td>233</td>\n",
       "      <td>109</td>\n",
       "    </tr>\n",
       "  </tbody>\n",
       "</table>\n",
       "</div>"
      ],
      "text/plain": [
       "Sex         0    1\n",
       "Survived          \n",
       "0          81  468\n",
       "1         233  109"
      ]
     },
     "execution_count": 4,
     "metadata": {},
     "output_type": "execute_result"
    }
   ],
   "source": [
    "#Age\n",
    "for dataset in train_and_test:\n",
    "    dataset['Sex'] = dataset['Sex'].astype(str)   #성별데이터 str타입으로 변환   \n",
    "for dataset in train_and_test:\n",
    "    dataset['Sex'] = dataset['Sex'].replace('female', 0)   #여자=0, 남자=1로 인코딩\n",
    "    dataset['Sex'] = dataset['Sex'].replace('male', 1)\n",
    "\n",
    "pd.crosstab(train['Survived'], train['Sex'])"
   ]
  },
  {
   "cell_type": "code",
   "execution_count": 5,
   "id": "273ecef0",
   "metadata": {
    "execution": {
     "iopub.execute_input": "2022-06-05T10:16:51.595465Z",
     "iopub.status.busy": "2022-06-05T10:16:51.594578Z",
     "iopub.status.idle": "2022-06-05T10:16:51.621510Z",
     "shell.execute_reply": "2022-06-05T10:16:51.620607Z"
    },
    "papermill": {
     "duration": 0.064058,
     "end_time": "2022-06-05T10:16:51.623907",
     "exception": false,
     "start_time": "2022-06-05T10:16:51.559849",
     "status": "completed"
    },
    "tags": []
   },
   "outputs": [
    {
     "data": {
      "text/html": [
       "<div>\n",
       "<style scoped>\n",
       "    .dataframe tbody tr th:only-of-type {\n",
       "        vertical-align: middle;\n",
       "    }\n",
       "\n",
       "    .dataframe tbody tr th {\n",
       "        vertical-align: top;\n",
       "    }\n",
       "\n",
       "    .dataframe thead th {\n",
       "        text-align: right;\n",
       "    }\n",
       "</style>\n",
       "<table border=\"1\" class=\"dataframe\">\n",
       "  <thead>\n",
       "    <tr style=\"text-align: right;\">\n",
       "      <th>Embarked</th>\n",
       "      <th>C</th>\n",
       "      <th>Q</th>\n",
       "      <th>S</th>\n",
       "    </tr>\n",
       "    <tr>\n",
       "      <th>Survived</th>\n",
       "      <th></th>\n",
       "      <th></th>\n",
       "      <th></th>\n",
       "    </tr>\n",
       "  </thead>\n",
       "  <tbody>\n",
       "    <tr>\n",
       "      <th>0</th>\n",
       "      <td>75</td>\n",
       "      <td>47</td>\n",
       "      <td>427</td>\n",
       "    </tr>\n",
       "    <tr>\n",
       "      <th>1</th>\n",
       "      <td>93</td>\n",
       "      <td>30</td>\n",
       "      <td>219</td>\n",
       "    </tr>\n",
       "  </tbody>\n",
       "</table>\n",
       "</div>"
      ],
      "text/plain": [
       "Embarked   C   Q    S\n",
       "Survived             \n",
       "0         75  47  427\n",
       "1         93  30  219"
      ]
     },
     "execution_count": 5,
     "metadata": {},
     "output_type": "execute_result"
    }
   ],
   "source": [
    "#Embarked\n",
    "for dataset in train_and_test:\n",
    "    dataset['Embarked'] = dataset['Embarked'].fillna('S')  #탑승지 결측값을 데이터중 가장 많이 분포되어있는 'S'로 가정\n",
    "    dataset['Embarked'] = dataset['Embarked'].astype(str)  #one-hot인코딩을 위하여 데이터 str타입으로 변환\n",
    "pd.crosstab(train['Survived'], train['Embarked'])"
   ]
  },
  {
   "cell_type": "code",
   "execution_count": 6,
   "id": "4b4428f8",
   "metadata": {
    "execution": {
     "iopub.execute_input": "2022-06-05T10:16:51.695706Z",
     "iopub.status.busy": "2022-06-05T10:16:51.694850Z",
     "iopub.status.idle": "2022-06-05T10:16:51.736565Z",
     "shell.execute_reply": "2022-06-05T10:16:51.735617Z"
    },
    "papermill": {
     "duration": 0.079265,
     "end_time": "2022-06-05T10:16:51.738916",
     "exception": false,
     "start_time": "2022-06-05T10:16:51.659651",
     "status": "completed"
    },
    "tags": []
   },
   "outputs": [
    {
     "data": {
      "text/html": [
       "<div>\n",
       "<style scoped>\n",
       "    .dataframe tbody tr th:only-of-type {\n",
       "        vertical-align: middle;\n",
       "    }\n",
       "\n",
       "    .dataframe tbody tr th {\n",
       "        vertical-align: top;\n",
       "    }\n",
       "\n",
       "    .dataframe thead th {\n",
       "        text-align: right;\n",
       "    }\n",
       "</style>\n",
       "<table border=\"1\" class=\"dataframe\">\n",
       "  <thead>\n",
       "    <tr style=\"text-align: right;\">\n",
       "      <th>Title</th>\n",
       "      <th>Master</th>\n",
       "      <th>Miss</th>\n",
       "      <th>Mr</th>\n",
       "      <th>Mrs</th>\n",
       "      <th>Other</th>\n",
       "    </tr>\n",
       "    <tr>\n",
       "      <th>Survived</th>\n",
       "      <th></th>\n",
       "      <th></th>\n",
       "      <th></th>\n",
       "      <th></th>\n",
       "      <th></th>\n",
       "    </tr>\n",
       "  </thead>\n",
       "  <tbody>\n",
       "    <tr>\n",
       "      <th>0</th>\n",
       "      <td>17</td>\n",
       "      <td>55</td>\n",
       "      <td>436</td>\n",
       "      <td>26</td>\n",
       "      <td>15</td>\n",
       "    </tr>\n",
       "    <tr>\n",
       "      <th>1</th>\n",
       "      <td>23</td>\n",
       "      <td>130</td>\n",
       "      <td>81</td>\n",
       "      <td>100</td>\n",
       "      <td>8</td>\n",
       "    </tr>\n",
       "  </tbody>\n",
       "</table>\n",
       "</div>"
      ],
      "text/plain": [
       "Title     Master  Miss   Mr  Mrs  Other\n",
       "Survived                               \n",
       "0             17    55  436   26     15\n",
       "1             23   130   81  100      8"
      ]
     },
     "execution_count": 6,
     "metadata": {},
     "output_type": "execute_result"
    }
   ],
   "source": [
    "#Name->Title\n",
    "for dataset in train_and_test:\n",
    "    dataset['Title'] = dataset.Name.str.extract(' ([A-Za-z]+)\\.')     #’ ([A-Za-z]+).‘는 정규표현식인데, 공백으로 시작하고, .으로 끝나는 문자열을 추출할 때 저렇게 표현을 한다.\n",
    "for dataset in train_and_test:\n",
    "    dataset['Title'] = dataset['Title'].replace(['Capt', 'Col', 'Countess', 'Don','Dona', 'Dr', 'Jonkheer', 'Lady','Major', 'Rev', 'Sir'], 'Other')    #별로 없는 데이터의 경우 'Other'로 묶음\n",
    "    dataset['Title'] = dataset['Title'].replace('Mlle', 'Miss')    #'Mile'='Miss' 같은의미이므로 통일\n",
    "    dataset['Title'] = dataset['Title'].replace('Mme', 'Mrs')      #'Mme'='Mrs' 같은의미\n",
    "    dataset['Title'] = dataset['Title'].replace('Ms', 'Miss')      #'Ms'='Miss' 같은의미\n",
    "\n",
    "pd.crosstab(train['Survived'], train['Title'])"
   ]
  },
  {
   "cell_type": "code",
   "execution_count": 7,
   "id": "d3f9ebe0",
   "metadata": {
    "execution": {
     "iopub.execute_input": "2022-06-05T10:16:51.809065Z",
     "iopub.status.busy": "2022-06-05T10:16:51.808683Z",
     "iopub.status.idle": "2022-06-05T10:16:51.836673Z",
     "shell.execute_reply": "2022-06-05T10:16:51.835929Z"
    },
    "papermill": {
     "duration": 0.065643,
     "end_time": "2022-06-05T10:16:51.838892",
     "exception": false,
     "start_time": "2022-06-05T10:16:51.773249",
     "status": "completed"
    },
    "tags": []
   },
   "outputs": [
    {
     "data": {
      "text/html": [
       "<div>\n",
       "<style scoped>\n",
       "    .dataframe tbody tr th:only-of-type {\n",
       "        vertical-align: middle;\n",
       "    }\n",
       "\n",
       "    .dataframe tbody tr th {\n",
       "        vertical-align: top;\n",
       "    }\n",
       "\n",
       "    .dataframe thead th {\n",
       "        text-align: right;\n",
       "    }\n",
       "</style>\n",
       "<table border=\"1\" class=\"dataframe\">\n",
       "  <thead>\n",
       "    <tr style=\"text-align: right;\">\n",
       "      <th>Master</th>\n",
       "      <th>0</th>\n",
       "      <th>1</th>\n",
       "    </tr>\n",
       "    <tr>\n",
       "      <th>Survived</th>\n",
       "      <th></th>\n",
       "      <th></th>\n",
       "    </tr>\n",
       "  </thead>\n",
       "  <tbody>\n",
       "    <tr>\n",
       "      <th>0</th>\n",
       "      <td>532</td>\n",
       "      <td>17</td>\n",
       "    </tr>\n",
       "    <tr>\n",
       "      <th>1</th>\n",
       "      <td>319</td>\n",
       "      <td>23</td>\n",
       "    </tr>\n",
       "  </tbody>\n",
       "</table>\n",
       "</div>"
      ],
      "text/plain": [
       "Master      0   1\n",
       "Survived         \n",
       "0         532  17\n",
       "1         319  23"
      ]
     },
     "execution_count": 7,
     "metadata": {},
     "output_type": "execute_result"
    }
   ],
   "source": [
    "#Title->Master\n",
    "for dataset in train_and_test:\n",
    "    dataset.loc[ dataset['Title']!='Master', 'Master'] = 0    #'Master'특성을 새로 만들고 'Title'의 값이 'Master'면 1, 아니면 0 저장\n",
    "    dataset.loc[ dataset['Title']=='Master', 'Master'] = 1\n",
    "    dataset['Master'] = dataset['Master'].astype(int)         #0, 1로만 이루어진 특성이기 때문에 int타입으로 변환하여 인코딩\n",
    "\n",
    "pd.crosstab(train['Survived'], train['Master'])"
   ]
  },
  {
   "cell_type": "code",
   "execution_count": 8,
   "id": "0f1873e5",
   "metadata": {
    "execution": {
     "iopub.execute_input": "2022-06-05T10:16:51.910016Z",
     "iopub.status.busy": "2022-06-05T10:16:51.908953Z",
     "iopub.status.idle": "2022-06-05T10:16:51.933660Z",
     "shell.execute_reply": "2022-06-05T10:16:51.933054Z"
    },
    "papermill": {
     "duration": 0.062811,
     "end_time": "2022-06-05T10:16:51.935739",
     "exception": false,
     "start_time": "2022-06-05T10:16:51.872928",
     "status": "completed"
    },
    "tags": []
   },
   "outputs": [
    {
     "data": {
      "text/html": [
       "<div>\n",
       "<style scoped>\n",
       "    .dataframe tbody tr th:only-of-type {\n",
       "        vertical-align: middle;\n",
       "    }\n",
       "\n",
       "    .dataframe tbody tr th {\n",
       "        vertical-align: top;\n",
       "    }\n",
       "\n",
       "    .dataframe thead th {\n",
       "        text-align: right;\n",
       "    }\n",
       "</style>\n",
       "<table border=\"1\" class=\"dataframe\">\n",
       "  <thead>\n",
       "    <tr style=\"text-align: right;\">\n",
       "      <th>Pclass</th>\n",
       "      <th>1</th>\n",
       "      <th>2</th>\n",
       "      <th>3</th>\n",
       "    </tr>\n",
       "    <tr>\n",
       "      <th>Survived</th>\n",
       "      <th></th>\n",
       "      <th></th>\n",
       "      <th></th>\n",
       "    </tr>\n",
       "  </thead>\n",
       "  <tbody>\n",
       "    <tr>\n",
       "      <th>0</th>\n",
       "      <td>80</td>\n",
       "      <td>97</td>\n",
       "      <td>372</td>\n",
       "    </tr>\n",
       "    <tr>\n",
       "      <th>1</th>\n",
       "      <td>136</td>\n",
       "      <td>87</td>\n",
       "      <td>119</td>\n",
       "    </tr>\n",
       "  </tbody>\n",
       "</table>\n",
       "</div>"
      ],
      "text/plain": [
       "Pclass      1   2    3\n",
       "Survived              \n",
       "0          80  97  372\n",
       "1         136  87  119"
      ]
     },
     "execution_count": 8,
     "metadata": {},
     "output_type": "execute_result"
    }
   ],
   "source": [
    "#Pclass\n",
    "for dataset in train_and_test:\n",
    "    dataset['Pclass'] = dataset['Pclass'].astype(str)    #one-hot인코딩을 위하여 str타입으로 변환\n",
    "pd.crosstab(train['Survived'], train['Pclass'])"
   ]
  },
  {
   "cell_type": "code",
   "execution_count": 9,
   "id": "7eef2df6",
   "metadata": {
    "execution": {
     "iopub.execute_input": "2022-06-05T10:16:52.006769Z",
     "iopub.status.busy": "2022-06-05T10:16:52.006176Z",
     "iopub.status.idle": "2022-06-05T10:16:52.040029Z",
     "shell.execute_reply": "2022-06-05T10:16:52.038515Z"
    },
    "papermill": {
     "duration": 0.073424,
     "end_time": "2022-06-05T10:16:52.043571",
     "exception": false,
     "start_time": "2022-06-05T10:16:51.970147",
     "status": "completed"
    },
    "tags": []
   },
   "outputs": [
    {
     "name": "stdout",
     "output_type": "stream",
     "text": [
      "7.41 21.77 32.0 38.9 43.83\n"
     ]
    }
   ],
   "source": [
    "#Age\n",
    "for dataset in train_and_test:\n",
    "    dataset.loc[(dataset['Title'] == 'Master'), 'ttAge'] = dataset['Age']    #'ttAge'라는 새로운 특성을 만들고, 'Title'의 값이 'Master'인 데이터의 'Age'값 저장\n",
    "Mas_mean = round(dataset['ttAge'].mean(), 2)    #위에서 저장한 데이터의 평균 = 'Title'의 값이 'Master'인 사람들의 나이 평균값\n",
    "for dataset in train_and_test:\n",
    "    dataset.loc[(dataset['Title'] == 'Miss'), 'ttAge'] = dataset['Age']      #'Title'의 값이 'Miss'인 데이터의 'Age'값 저장\n",
    "    dataset.loc[(dataset['Title'] != 'Miss'), 'ttAge'] = None                #'Title'의 값이 'Miss'가 아닌 경우 None으로 초기화\n",
    "Mis_mean = round(dataset['ttAge'].mean(), 2)    # 'Title'의 값이 'Miss'인 사람들의 나이 평균값 저장\n",
    "for dataset in train_and_test:\n",
    "    dataset.loc[(dataset['Title'] == 'Mr'), 'ttAge'] = dataset['Age']       #'Title'의 값이 'Mr'인 데이터의 'Age'값 저장\n",
    "    dataset.loc[(dataset['Title'] != 'Mr'), 'ttAge'] = None                 #'Title'의 값이 'Mr'가 아닌 경우 None으로 초기화\n",
    "Mr_mean = round(dataset['ttAge'].mean(), 2)     # 'Title'의 값이 'Mr'인 사람들의 나이 평균값 저장\n",
    "for dataset in train_and_test:\n",
    "    dataset.loc[(dataset['Title'] == 'Mrs'), 'ttAge'] = dataset['Age']      #'Title'의 값이 'Mrs'인 데이터의 'Age'값 저장\n",
    "    dataset.loc[(dataset['Title'] != 'Mrs'), 'ttAge'] = None                #'Title'의 값이 'Mrs'가 아닌 경우 None으로 초기화\n",
    "Mrs_mean = round(dataset['ttAge'].mean(), 2)    # 'Title'의 값이 'Mrs'인 사람들의 나이 평균값 저장\n",
    "for dataset in train_and_test:\n",
    "    dataset.loc[(dataset['Title'] == 'Other'), 'ttAge'] = dataset['Age']    #'Title'의 값이 'Other'인 데이터의 'Age'값 저장\n",
    "    dataset.loc[(dataset['Title'] != 'Other'), 'ttAge'] = None              #'Title'의 값이 'Other'가 아닌 경우 None으로 초기화\n",
    "Oth_mean = round(dataset['ttAge'].mean(), 2)    # 'Title'의 값이 'Other'인 사람들의 나이 평균값 저장\n",
    "print(Mas_mean, Mis_mean, Mr_mean, Mrs_mean, Oth_mean)"
   ]
  },
  {
   "cell_type": "code",
   "execution_count": 10,
   "id": "c290f5db",
   "metadata": {
    "execution": {
     "iopub.execute_input": "2022-06-05T10:16:52.116802Z",
     "iopub.status.busy": "2022-06-05T10:16:52.116151Z",
     "iopub.status.idle": "2022-06-05T10:16:52.176804Z",
     "shell.execute_reply": "2022-06-05T10:16:52.175791Z"
    },
    "papermill": {
     "duration": 0.100283,
     "end_time": "2022-06-05T10:16:52.179146",
     "exception": false,
     "start_time": "2022-06-05T10:16:52.078863",
     "status": "completed"
    },
    "scrolled": true,
    "tags": []
   },
   "outputs": [
    {
     "data": {
      "text/html": [
       "<div>\n",
       "<style scoped>\n",
       "    .dataframe tbody tr th:only-of-type {\n",
       "        vertical-align: middle;\n",
       "    }\n",
       "\n",
       "    .dataframe tbody tr th {\n",
       "        vertical-align: top;\n",
       "    }\n",
       "\n",
       "    .dataframe thead th {\n",
       "        text-align: right;\n",
       "    }\n",
       "</style>\n",
       "<table border=\"1\" class=\"dataframe\">\n",
       "  <thead>\n",
       "    <tr style=\"text-align: right;\">\n",
       "      <th>Age</th>\n",
       "      <th>0.42</th>\n",
       "      <th>0.67</th>\n",
       "      <th>0.75</th>\n",
       "      <th>0.83</th>\n",
       "      <th>0.92</th>\n",
       "      <th>1.00</th>\n",
       "      <th>2.00</th>\n",
       "      <th>3.00</th>\n",
       "      <th>4.00</th>\n",
       "      <th>5.00</th>\n",
       "      <th>...</th>\n",
       "      <th>62.00</th>\n",
       "      <th>63.00</th>\n",
       "      <th>64.00</th>\n",
       "      <th>65.00</th>\n",
       "      <th>66.00</th>\n",
       "      <th>70.00</th>\n",
       "      <th>70.50</th>\n",
       "      <th>71.00</th>\n",
       "      <th>74.00</th>\n",
       "      <th>80.00</th>\n",
       "    </tr>\n",
       "    <tr>\n",
       "      <th>Survived</th>\n",
       "      <th></th>\n",
       "      <th></th>\n",
       "      <th></th>\n",
       "      <th></th>\n",
       "      <th></th>\n",
       "      <th></th>\n",
       "      <th></th>\n",
       "      <th></th>\n",
       "      <th></th>\n",
       "      <th></th>\n",
       "      <th></th>\n",
       "      <th></th>\n",
       "      <th></th>\n",
       "      <th></th>\n",
       "      <th></th>\n",
       "      <th></th>\n",
       "      <th></th>\n",
       "      <th></th>\n",
       "      <th></th>\n",
       "      <th></th>\n",
       "      <th></th>\n",
       "    </tr>\n",
       "  </thead>\n",
       "  <tbody>\n",
       "    <tr>\n",
       "      <th>0</th>\n",
       "      <td>0</td>\n",
       "      <td>0</td>\n",
       "      <td>0</td>\n",
       "      <td>0</td>\n",
       "      <td>0</td>\n",
       "      <td>2</td>\n",
       "      <td>7</td>\n",
       "      <td>1</td>\n",
       "      <td>3</td>\n",
       "      <td>0</td>\n",
       "      <td>...</td>\n",
       "      <td>2</td>\n",
       "      <td>0</td>\n",
       "      <td>2</td>\n",
       "      <td>3</td>\n",
       "      <td>1</td>\n",
       "      <td>2</td>\n",
       "      <td>1</td>\n",
       "      <td>2</td>\n",
       "      <td>1</td>\n",
       "      <td>0</td>\n",
       "    </tr>\n",
       "    <tr>\n",
       "      <th>1</th>\n",
       "      <td>1</td>\n",
       "      <td>1</td>\n",
       "      <td>2</td>\n",
       "      <td>2</td>\n",
       "      <td>1</td>\n",
       "      <td>5</td>\n",
       "      <td>3</td>\n",
       "      <td>5</td>\n",
       "      <td>7</td>\n",
       "      <td>4</td>\n",
       "      <td>...</td>\n",
       "      <td>2</td>\n",
       "      <td>2</td>\n",
       "      <td>0</td>\n",
       "      <td>0</td>\n",
       "      <td>0</td>\n",
       "      <td>0</td>\n",
       "      <td>0</td>\n",
       "      <td>0</td>\n",
       "      <td>0</td>\n",
       "      <td>1</td>\n",
       "    </tr>\n",
       "  </tbody>\n",
       "</table>\n",
       "<p>2 rows × 92 columns</p>\n",
       "</div>"
      ],
      "text/plain": [
       "Age       0.42   0.67   0.75   0.83   0.92   1.00   2.00   3.00   4.00   \\\n",
       "Survived                                                                  \n",
       "0             0      0      0      0      0      2      7      1      3   \n",
       "1             1      1      2      2      1      5      3      5      7   \n",
       "\n",
       "Age       5.00   ...  62.00  63.00  64.00  65.00  66.00  70.00  70.50  71.00  \\\n",
       "Survived         ...                                                           \n",
       "0             0  ...      2      0      2      3      1      2      1      2   \n",
       "1             4  ...      2      2      0      0      0      0      0      0   \n",
       "\n",
       "Age       74.00  80.00  \n",
       "Survived                \n",
       "0             1      0  \n",
       "1             0      1  \n",
       "\n",
       "[2 rows x 92 columns]"
      ]
     },
     "execution_count": 10,
     "metadata": {},
     "output_type": "execute_result"
    }
   ],
   "source": [
    "for dataset in train_and_test:\n",
    "    dataset.loc[(dataset['Title']=='Master')&(dataset['Age'].isnull()==True), 'Age'] = Mas_mean\n",
    "    dataset.loc[(dataset['Title']=='Miss')&(dataset['Age'].isnull()==True), 'Age'] = Mis_mean\n",
    "    dataset.loc[(dataset['Title']=='Mr')&(dataset['Age'].isnull()==True), 'Age'] = Mr_mean\n",
    "    dataset.loc[(dataset['Title']=='Mrs')&(dataset['Age'].isnull()==True), 'Age'] = Mrs_mean\n",
    "    dataset.loc[(dataset['Title']=='Other')&(dataset['Age'].isnull()==True), 'Age'] = Oth_mean\n",
    "#'Age'결측치에 각각의 위에서 구한 각'Title'에 대한 'Age' 평균치를 저장\n",
    "\n",
    "pd.crosstab(train['Survived'], train['Age'])"
   ]
  },
  {
   "cell_type": "code",
   "execution_count": 11,
   "id": "2a924010",
   "metadata": {
    "execution": {
     "iopub.execute_input": "2022-06-05T10:16:52.252159Z",
     "iopub.status.busy": "2022-06-05T10:16:52.251787Z",
     "iopub.status.idle": "2022-06-05T10:16:52.324016Z",
     "shell.execute_reply": "2022-06-05T10:16:52.323080Z"
    },
    "papermill": {
     "duration": 0.111523,
     "end_time": "2022-06-05T10:16:52.326334",
     "exception": false,
     "start_time": "2022-06-05T10:16:52.214811",
     "status": "completed"
    },
    "tags": []
   },
   "outputs": [
    {
     "data": {
      "text/html": [
       "<div>\n",
       "<style scoped>\n",
       "    .dataframe tbody tr th:only-of-type {\n",
       "        vertical-align: middle;\n",
       "    }\n",
       "\n",
       "    .dataframe tbody tr th {\n",
       "        vertical-align: top;\n",
       "    }\n",
       "\n",
       "    .dataframe thead th {\n",
       "        text-align: right;\n",
       "    }\n",
       "</style>\n",
       "<table border=\"1\" class=\"dataframe\">\n",
       "  <thead>\n",
       "    <tr style=\"text-align: right;\">\n",
       "      <th>Fare</th>\n",
       "      <th>0.0000</th>\n",
       "      <th>4.0125</th>\n",
       "      <th>5.0000</th>\n",
       "      <th>6.2375</th>\n",
       "      <th>6.4375</th>\n",
       "      <th>6.4500</th>\n",
       "      <th>6.4958</th>\n",
       "      <th>6.7500</th>\n",
       "      <th>6.8583</th>\n",
       "      <th>6.9500</th>\n",
       "      <th>...</th>\n",
       "      <th>153.4625</th>\n",
       "      <th>164.8667</th>\n",
       "      <th>211.3375</th>\n",
       "      <th>211.5000</th>\n",
       "      <th>221.7792</th>\n",
       "      <th>227.5250</th>\n",
       "      <th>247.5208</th>\n",
       "      <th>262.3750</th>\n",
       "      <th>263.0000</th>\n",
       "      <th>512.3292</th>\n",
       "    </tr>\n",
       "    <tr>\n",
       "      <th>Survived</th>\n",
       "      <th></th>\n",
       "      <th></th>\n",
       "      <th></th>\n",
       "      <th></th>\n",
       "      <th></th>\n",
       "      <th></th>\n",
       "      <th></th>\n",
       "      <th></th>\n",
       "      <th></th>\n",
       "      <th></th>\n",
       "      <th></th>\n",
       "      <th></th>\n",
       "      <th></th>\n",
       "      <th></th>\n",
       "      <th></th>\n",
       "      <th></th>\n",
       "      <th></th>\n",
       "      <th></th>\n",
       "      <th></th>\n",
       "      <th></th>\n",
       "      <th></th>\n",
       "    </tr>\n",
       "  </thead>\n",
       "  <tbody>\n",
       "    <tr>\n",
       "      <th>0</th>\n",
       "      <td>14</td>\n",
       "      <td>1</td>\n",
       "      <td>1</td>\n",
       "      <td>1</td>\n",
       "      <td>1</td>\n",
       "      <td>1</td>\n",
       "      <td>2</td>\n",
       "      <td>2</td>\n",
       "      <td>1</td>\n",
       "      <td>1</td>\n",
       "      <td>...</td>\n",
       "      <td>1</td>\n",
       "      <td>0</td>\n",
       "      <td>0</td>\n",
       "      <td>1</td>\n",
       "      <td>1</td>\n",
       "      <td>1</td>\n",
       "      <td>1</td>\n",
       "      <td>0</td>\n",
       "      <td>2</td>\n",
       "      <td>0</td>\n",
       "    </tr>\n",
       "    <tr>\n",
       "      <th>1</th>\n",
       "      <td>1</td>\n",
       "      <td>0</td>\n",
       "      <td>0</td>\n",
       "      <td>0</td>\n",
       "      <td>0</td>\n",
       "      <td>0</td>\n",
       "      <td>0</td>\n",
       "      <td>0</td>\n",
       "      <td>0</td>\n",
       "      <td>0</td>\n",
       "      <td>...</td>\n",
       "      <td>2</td>\n",
       "      <td>2</td>\n",
       "      <td>3</td>\n",
       "      <td>0</td>\n",
       "      <td>0</td>\n",
       "      <td>3</td>\n",
       "      <td>1</td>\n",
       "      <td>2</td>\n",
       "      <td>2</td>\n",
       "      <td>3</td>\n",
       "    </tr>\n",
       "  </tbody>\n",
       "</table>\n",
       "<p>2 rows × 248 columns</p>\n",
       "</div>"
      ],
      "text/plain": [
       "Fare      0.0000    4.0125    5.0000    6.2375    6.4375    6.4500    \\\n",
       "Survived                                                               \n",
       "0               14         1         1         1         1         1   \n",
       "1                1         0         0         0         0         0   \n",
       "\n",
       "Fare      6.4958    6.7500    6.8583    6.9500    ...  153.4625  164.8667  \\\n",
       "Survived                                          ...                       \n",
       "0                2         2         1         1  ...         1         0   \n",
       "1                0         0         0         0  ...         2         2   \n",
       "\n",
       "Fare      211.3375  211.5000  221.7792  227.5250  247.5208  262.3750  \\\n",
       "Survived                                                               \n",
       "0                0         1         1         1         1         0   \n",
       "1                3         0         0         3         1         2   \n",
       "\n",
       "Fare      263.0000  512.3292  \n",
       "Survived                      \n",
       "0                2         0  \n",
       "1                2         3  \n",
       "\n",
       "[2 rows x 248 columns]"
      ]
     },
     "execution_count": 11,
     "metadata": {},
     "output_type": "execute_result"
    }
   ],
   "source": [
    "#Fare\n",
    "for dataset in train_and_test:\n",
    "    dataset['Fare'] = dataset['Fare'].fillna(0)    #'Fare'의 결측치는 test데이터에 단 1개만 존재하므로 0으로 저장\n",
    "pd.crosstab(train['Survived'], train['Fare'])"
   ]
  },
  {
   "cell_type": "code",
   "execution_count": 12,
   "id": "dbc88c0c",
   "metadata": {
    "execution": {
     "iopub.execute_input": "2022-06-05T10:16:52.401484Z",
     "iopub.status.busy": "2022-06-05T10:16:52.400850Z",
     "iopub.status.idle": "2022-06-05T10:16:52.430327Z",
     "shell.execute_reply": "2022-06-05T10:16:52.429428Z"
    },
    "papermill": {
     "duration": 0.0704,
     "end_time": "2022-06-05T10:16:52.432515",
     "exception": false,
     "start_time": "2022-06-05T10:16:52.362115",
     "status": "completed"
    },
    "tags": []
   },
   "outputs": [
    {
     "data": {
      "text/html": [
       "<div>\n",
       "<style scoped>\n",
       "    .dataframe tbody tr th:only-of-type {\n",
       "        vertical-align: middle;\n",
       "    }\n",
       "\n",
       "    .dataframe tbody tr th {\n",
       "        vertical-align: top;\n",
       "    }\n",
       "\n",
       "    .dataframe thead th {\n",
       "        text-align: right;\n",
       "    }\n",
       "</style>\n",
       "<table border=\"1\" class=\"dataframe\">\n",
       "  <thead>\n",
       "    <tr style=\"text-align: right;\">\n",
       "      <th>Cabin</th>\n",
       "      <th>A</th>\n",
       "      <th>B</th>\n",
       "      <th>C</th>\n",
       "      <th>D</th>\n",
       "      <th>E</th>\n",
       "      <th>F</th>\n",
       "      <th>G</th>\n",
       "      <th>K</th>\n",
       "      <th>T</th>\n",
       "    </tr>\n",
       "    <tr>\n",
       "      <th>Pclass</th>\n",
       "      <th></th>\n",
       "      <th></th>\n",
       "      <th></th>\n",
       "      <th></th>\n",
       "      <th></th>\n",
       "      <th></th>\n",
       "      <th></th>\n",
       "      <th></th>\n",
       "      <th></th>\n",
       "    </tr>\n",
       "  </thead>\n",
       "  <tbody>\n",
       "    <tr>\n",
       "      <th>1</th>\n",
       "      <td>15</td>\n",
       "      <td>47</td>\n",
       "      <td>59</td>\n",
       "      <td>29</td>\n",
       "      <td>25</td>\n",
       "      <td>0</td>\n",
       "      <td>0</td>\n",
       "      <td>40</td>\n",
       "      <td>1</td>\n",
       "    </tr>\n",
       "    <tr>\n",
       "      <th>2</th>\n",
       "      <td>0</td>\n",
       "      <td>0</td>\n",
       "      <td>0</td>\n",
       "      <td>4</td>\n",
       "      <td>4</td>\n",
       "      <td>8</td>\n",
       "      <td>0</td>\n",
       "      <td>168</td>\n",
       "      <td>0</td>\n",
       "    </tr>\n",
       "    <tr>\n",
       "      <th>3</th>\n",
       "      <td>0</td>\n",
       "      <td>0</td>\n",
       "      <td>0</td>\n",
       "      <td>0</td>\n",
       "      <td>3</td>\n",
       "      <td>5</td>\n",
       "      <td>4</td>\n",
       "      <td>479</td>\n",
       "      <td>0</td>\n",
       "    </tr>\n",
       "  </tbody>\n",
       "</table>\n",
       "</div>"
      ],
      "text/plain": [
       "Cabin    A   B   C   D   E  F  G    K  T\n",
       "Pclass                                  \n",
       "1       15  47  59  29  25  0  0   40  1\n",
       "2        0   0   0   4   4  8  0  168  0\n",
       "3        0   0   0   0   3  5  4  479  0"
      ]
     },
     "execution_count": 12,
     "metadata": {},
     "output_type": "execute_result"
    }
   ],
   "source": [
    "#Cabin\n",
    "for dataset in train_and_test:\n",
    "    dataset['Cabin'] = dataset['Cabin'].fillna('K')    #'Cabin'의 결측치는 나중에 처리하기 위해 우선 'K'로\n",
    "    dataset['Cabin'] = dataset['Cabin'].str[:1]        #객실의 호수를 제외하고 종류만 따오기 위해서 맨 앞의 알파벳만 저장\n",
    "    dataset['Cabin'] = dataset['Cabin'].astype(str)\n",
    "pd.crosstab(train['Pclass'], train['Cabin'])           #'Cabin과 'Pclass'가 연관이 있다고 판단하여 결측치를 채울 때 'Pclass'를 고려"
   ]
  },
  {
   "cell_type": "code",
   "execution_count": 13,
   "id": "b3300282",
   "metadata": {
    "execution": {
     "iopub.execute_input": "2022-06-05T10:16:52.507762Z",
     "iopub.status.busy": "2022-06-05T10:16:52.507096Z",
     "iopub.status.idle": "2022-06-05T10:16:52.532105Z",
     "shell.execute_reply": "2022-06-05T10:16:52.531014Z"
    },
    "papermill": {
     "duration": 0.065454,
     "end_time": "2022-06-05T10:16:52.534313",
     "exception": false,
     "start_time": "2022-06-05T10:16:52.468859",
     "status": "completed"
    },
    "tags": []
   },
   "outputs": [
    {
     "data": {
      "text/html": [
       "<div>\n",
       "<style scoped>\n",
       "    .dataframe tbody tr th:only-of-type {\n",
       "        vertical-align: middle;\n",
       "    }\n",
       "\n",
       "    .dataframe tbody tr th {\n",
       "        vertical-align: top;\n",
       "    }\n",
       "\n",
       "    .dataframe thead th {\n",
       "        text-align: right;\n",
       "    }\n",
       "</style>\n",
       "<table border=\"1\" class=\"dataframe\">\n",
       "  <thead>\n",
       "    <tr style=\"text-align: right;\">\n",
       "      <th>Cabin</th>\n",
       "      <th>A</th>\n",
       "      <th>B</th>\n",
       "      <th>C</th>\n",
       "      <th>D</th>\n",
       "      <th>E</th>\n",
       "      <th>F</th>\n",
       "      <th>G</th>\n",
       "      <th>K</th>\n",
       "      <th>T</th>\n",
       "    </tr>\n",
       "    <tr>\n",
       "      <th>Survived</th>\n",
       "      <th></th>\n",
       "      <th></th>\n",
       "      <th></th>\n",
       "      <th></th>\n",
       "      <th></th>\n",
       "      <th></th>\n",
       "      <th></th>\n",
       "      <th></th>\n",
       "      <th></th>\n",
       "    </tr>\n",
       "  </thead>\n",
       "  <tbody>\n",
       "    <tr>\n",
       "      <th>0</th>\n",
       "      <td>8</td>\n",
       "      <td>12</td>\n",
       "      <td>24</td>\n",
       "      <td>8</td>\n",
       "      <td>8</td>\n",
       "      <td>5</td>\n",
       "      <td>2</td>\n",
       "      <td>481</td>\n",
       "      <td>1</td>\n",
       "    </tr>\n",
       "    <tr>\n",
       "      <th>1</th>\n",
       "      <td>7</td>\n",
       "      <td>35</td>\n",
       "      <td>35</td>\n",
       "      <td>25</td>\n",
       "      <td>24</td>\n",
       "      <td>8</td>\n",
       "      <td>2</td>\n",
       "      <td>206</td>\n",
       "      <td>0</td>\n",
       "    </tr>\n",
       "  </tbody>\n",
       "</table>\n",
       "</div>"
      ],
      "text/plain": [
       "Cabin     A   B   C   D   E  F  G    K  T\n",
       "Survived                                 \n",
       "0         8  12  24   8   8  5  2  481  1\n",
       "1         7  35  35  25  24  8  2  206  0"
      ]
     },
     "execution_count": 13,
     "metadata": {},
     "output_type": "execute_result"
    }
   ],
   "source": [
    "pd.crosstab(train['Survived'], train['Cabin'])"
   ]
  },
  {
   "cell_type": "code",
   "execution_count": 14,
   "id": "12ab0784",
   "metadata": {
    "execution": {
     "iopub.execute_input": "2022-06-05T10:16:52.610152Z",
     "iopub.status.busy": "2022-06-05T10:16:52.609814Z",
     "iopub.status.idle": "2022-06-05T10:16:52.655278Z",
     "shell.execute_reply": "2022-06-05T10:16:52.654376Z"
    },
    "papermill": {
     "duration": 0.086208,
     "end_time": "2022-06-05T10:16:52.657523",
     "exception": false,
     "start_time": "2022-06-05T10:16:52.571315",
     "status": "completed"
    },
    "tags": []
   },
   "outputs": [
    {
     "data": {
      "text/html": [
       "<div>\n",
       "<style scoped>\n",
       "    .dataframe tbody tr th:only-of-type {\n",
       "        vertical-align: middle;\n",
       "    }\n",
       "\n",
       "    .dataframe tbody tr th {\n",
       "        vertical-align: top;\n",
       "    }\n",
       "\n",
       "    .dataframe thead th {\n",
       "        text-align: right;\n",
       "    }\n",
       "</style>\n",
       "<table border=\"1\" class=\"dataframe\">\n",
       "  <thead>\n",
       "    <tr style=\"text-align: right;\">\n",
       "      <th>Cabin</th>\n",
       "      <th>0</th>\n",
       "      <th>1</th>\n",
       "    </tr>\n",
       "    <tr>\n",
       "      <th>Survived</th>\n",
       "      <th></th>\n",
       "      <th></th>\n",
       "    </tr>\n",
       "  </thead>\n",
       "  <tbody>\n",
       "    <tr>\n",
       "      <th>0</th>\n",
       "      <td>521</td>\n",
       "      <td>28</td>\n",
       "    </tr>\n",
       "    <tr>\n",
       "      <th>1</th>\n",
       "      <td>258</td>\n",
       "      <td>84</td>\n",
       "    </tr>\n",
       "  </tbody>\n",
       "</table>\n",
       "</div>"
      ],
      "text/plain": [
       "Cabin       0   1\n",
       "Survived         \n",
       "0         521  28\n",
       "1         258  84"
      ]
     },
     "execution_count": 14,
     "metadata": {},
     "output_type": "execute_result"
    }
   ],
   "source": [
    "for dataset in train_and_test:\n",
    "    dataset.loc[(dataset['Pclass'] == '1') & (dataset['Cabin'] == 'K'), 'Cabin'] = 'C'     #결측치별로 'Pclass'에 가장 많이 분포되어있는 값으로 채워넣음\n",
    "    dataset.loc[(dataset['Pclass'] == '2') & (dataset['Cabin'] == 'K'), 'Cabin'] = 'F'\n",
    "    dataset.loc[(dataset['Pclass'] == '3') & (dataset['Cabin'] == 'K'), 'Cabin'] = 'G'\n",
    "    dataset['Cabin'] = dataset['Cabin'].replace(['T'], 'C')\n",
    "for dataset in train_and_test:\n",
    "    dataset.loc[(dataset['Cabin']=='B'), 'Cabin'] = 1     #생존률이 더 높은 객실=1, 더 낮은 객실=0으로 인코딩\n",
    "    dataset.loc[(dataset['Cabin']=='D'), 'Cabin'] = 1\n",
    "    dataset.loc[(dataset['Cabin']=='E'), 'Cabin'] = 1\n",
    "    dataset.loc[(dataset['Cabin']=='A'), 'Cabin'] = 0\n",
    "    dataset.loc[(dataset['Cabin']=='C'), 'Cabin'] = 0\n",
    "    dataset.loc[(dataset['Cabin']=='F'), 'Cabin'] = 0\n",
    "    dataset.loc[(dataset['Cabin']=='G'), 'Cabin'] = 0\n",
    "    dataset['Cabin'] = dataset['Cabin'].astype(int)\n",
    "\n",
    "pd.crosstab(train['Survived'], train['Cabin'])"
   ]
  },
  {
   "cell_type": "code",
   "execution_count": 15,
   "id": "fe64e6c4",
   "metadata": {
    "execution": {
     "iopub.execute_input": "2022-06-05T10:16:52.737767Z",
     "iopub.status.busy": "2022-06-05T10:16:52.737365Z",
     "iopub.status.idle": "2022-06-05T10:16:52.765974Z",
     "shell.execute_reply": "2022-06-05T10:16:52.765203Z"
    },
    "papermill": {
     "duration": 0.072082,
     "end_time": "2022-06-05T10:16:52.768115",
     "exception": false,
     "start_time": "2022-06-05T10:16:52.696033",
     "status": "completed"
    },
    "tags": []
   },
   "outputs": [
    {
     "data": {
      "text/html": [
       "<div>\n",
       "<style scoped>\n",
       "    .dataframe tbody tr th:only-of-type {\n",
       "        vertical-align: middle;\n",
       "    }\n",
       "\n",
       "    .dataframe tbody tr th {\n",
       "        vertical-align: top;\n",
       "    }\n",
       "\n",
       "    .dataframe thead th {\n",
       "        text-align: right;\n",
       "    }\n",
       "</style>\n",
       "<table border=\"1\" class=\"dataframe\">\n",
       "  <thead>\n",
       "    <tr style=\"text-align: right;\">\n",
       "      <th>Family</th>\n",
       "      <th>1</th>\n",
       "      <th>2</th>\n",
       "      <th>3</th>\n",
       "      <th>4</th>\n",
       "      <th>5</th>\n",
       "      <th>6</th>\n",
       "      <th>7</th>\n",
       "      <th>8</th>\n",
       "      <th>11</th>\n",
       "    </tr>\n",
       "    <tr>\n",
       "      <th>Survived</th>\n",
       "      <th></th>\n",
       "      <th></th>\n",
       "      <th></th>\n",
       "      <th></th>\n",
       "      <th></th>\n",
       "      <th></th>\n",
       "      <th></th>\n",
       "      <th></th>\n",
       "      <th></th>\n",
       "    </tr>\n",
       "  </thead>\n",
       "  <tbody>\n",
       "    <tr>\n",
       "      <th>0</th>\n",
       "      <td>374</td>\n",
       "      <td>72</td>\n",
       "      <td>43</td>\n",
       "      <td>8</td>\n",
       "      <td>12</td>\n",
       "      <td>19</td>\n",
       "      <td>8</td>\n",
       "      <td>6</td>\n",
       "      <td>7</td>\n",
       "    </tr>\n",
       "    <tr>\n",
       "      <th>1</th>\n",
       "      <td>163</td>\n",
       "      <td>89</td>\n",
       "      <td>59</td>\n",
       "      <td>21</td>\n",
       "      <td>3</td>\n",
       "      <td>3</td>\n",
       "      <td>4</td>\n",
       "      <td>0</td>\n",
       "      <td>0</td>\n",
       "    </tr>\n",
       "  </tbody>\n",
       "</table>\n",
       "</div>"
      ],
      "text/plain": [
       "Family     1   2   3   4   5   6   7   8   11\n",
       "Survived                                     \n",
       "0         374  72  43   8  12  19   8   6   7\n",
       "1         163  89  59  21   3   3   4   0   0"
      ]
     },
     "execution_count": 15,
     "metadata": {},
     "output_type": "execute_result"
    }
   ],
   "source": [
    "#Parch, SibSp->Family\n",
    "for dataset in train_and_test:\n",
    "    dataset['Family'] = dataset['Parch']+dataset['SibSp']+1    #'Parch'데이터와 'SibSp'데이터를 합쳐서 자신을 포함한 동승자를 나타내는 'Family'라는 특성생성\n",
    "pd.crosstab(train['Survived'], train['Family'])"
   ]
  },
  {
   "cell_type": "code",
   "execution_count": 16,
   "id": "1503d3a6",
   "metadata": {
    "execution": {
     "iopub.execute_input": "2022-06-05T10:16:52.847235Z",
     "iopub.status.busy": "2022-06-05T10:16:52.846389Z",
     "iopub.status.idle": "2022-06-05T10:16:52.871530Z",
     "shell.execute_reply": "2022-06-05T10:16:52.870796Z"
    },
    "papermill": {
     "duration": 0.067076,
     "end_time": "2022-06-05T10:16:52.873746",
     "exception": false,
     "start_time": "2022-06-05T10:16:52.806670",
     "status": "completed"
    },
    "scrolled": true,
    "tags": []
   },
   "outputs": [
    {
     "data": {
      "text/html": [
       "<div>\n",
       "<style scoped>\n",
       "    .dataframe tbody tr th:only-of-type {\n",
       "        vertical-align: middle;\n",
       "    }\n",
       "\n",
       "    .dataframe tbody tr th {\n",
       "        vertical-align: top;\n",
       "    }\n",
       "\n",
       "    .dataframe thead th {\n",
       "        text-align: right;\n",
       "    }\n",
       "</style>\n",
       "<table border=\"1\" class=\"dataframe\">\n",
       "  <thead>\n",
       "    <tr style=\"text-align: right;\">\n",
       "      <th>Family</th>\n",
       "      <th>0</th>\n",
       "      <th>1</th>\n",
       "    </tr>\n",
       "    <tr>\n",
       "      <th>Survived</th>\n",
       "      <th></th>\n",
       "      <th></th>\n",
       "    </tr>\n",
       "  </thead>\n",
       "  <tbody>\n",
       "    <tr>\n",
       "      <th>0</th>\n",
       "      <td>426</td>\n",
       "      <td>123</td>\n",
       "    </tr>\n",
       "    <tr>\n",
       "      <th>1</th>\n",
       "      <td>173</td>\n",
       "      <td>169</td>\n",
       "    </tr>\n",
       "  </tbody>\n",
       "</table>\n",
       "</div>"
      ],
      "text/plain": [
       "Family      0    1\n",
       "Survived          \n",
       "0         426  123\n",
       "1         173  169"
      ]
     },
     "execution_count": 16,
     "metadata": {},
     "output_type": "execute_result"
    }
   ],
   "source": [
    "for dataset in train_and_test:    #2~4인 가족이 생존률이 더 높은것을 확인\n",
    "    dataset.loc[(dataset['Family'] < 2) | (dataset['Family'] > 4), 'Family'] = 0     #위의 조건을 충족하는 경우 1, 아닐경우 0으로 인코딩\n",
    "    dataset.loc[(dataset['Family'] >= 2) & (dataset['Family'] <= 4), 'Family'] = 1\n",
    "pd.crosstab(train['Survived'], train['Family'])"
   ]
  },
  {
   "cell_type": "code",
   "execution_count": 17,
   "id": "6091eaf7",
   "metadata": {
    "execution": {
     "iopub.execute_input": "2022-06-05T10:16:52.957171Z",
     "iopub.status.busy": "2022-06-05T10:16:52.956616Z",
     "iopub.status.idle": "2022-06-05T10:16:52.973514Z",
     "shell.execute_reply": "2022-06-05T10:16:52.972858Z"
    },
    "papermill": {
     "duration": 0.061068,
     "end_time": "2022-06-05T10:16:52.976730",
     "exception": false,
     "start_time": "2022-06-05T10:16:52.915662",
     "status": "completed"
    },
    "tags": []
   },
   "outputs": [
    {
     "name": "stdout",
     "output_type": "stream",
     "text": [
      "   Survived Pclass  Sex     Fare Embarked  Master  Family\n",
      "0         0      3    1   7.2500        S       0       1\n",
      "1         1      1    0  71.2833        C       0       1\n",
      "2         1      3    0   7.9250        S       0       0\n",
      "3         1      1    0  53.1000        S       0       1\n",
      "4         0      3    1   8.0500        S       0       0\n",
      "   PassengerId Pclass  Sex     Fare Embarked  Master  Family\n",
      "0          892      3    1   7.8292        Q       0       0\n",
      "1          893      3    0   7.0000        S       0       1\n",
      "2          894      2    1   9.6875        Q       0       0\n",
      "3          895      3    1   8.6625        S       0       0\n",
      "4          896      3    0  12.2875        S       0       1\n"
     ]
    }
   ],
   "source": [
    "features_drop = ['Name', 'Ticket', 'Parch', 'SibSp', 'Title', 'ttAge', 'Cabin', 'Age']   #학습할 때 버릴 특성 선택\n",
    "train = train.drop(features_drop, axis=1)        #train데이터에서 위에서 선택한 특성 drop\n",
    "test = test.drop(features_drop, axis=1)          #test데이터에서 위에서 선택한 특성 drop\n",
    "train = train.drop(['PassengerId'], axis=1)      #추가로 train데이터의 승객번호는 필요없으므로 drop\n",
    "\n",
    "print(train.head())\n",
    "print(test.head())        #데이터 확인"
   ]
  },
  {
   "cell_type": "code",
   "execution_count": 18,
   "id": "ed3835f9",
   "metadata": {
    "execution": {
     "iopub.execute_input": "2022-06-05T10:16:53.059868Z",
     "iopub.status.busy": "2022-06-05T10:16:53.059321Z",
     "iopub.status.idle": "2022-06-05T10:16:53.088507Z",
     "shell.execute_reply": "2022-06-05T10:16:53.087784Z"
    },
    "papermill": {
     "duration": 0.073209,
     "end_time": "2022-06-05T10:16:53.090633",
     "exception": false,
     "start_time": "2022-06-05T10:16:53.017424",
     "status": "completed"
    },
    "tags": []
   },
   "outputs": [
    {
     "data": {
      "text/html": [
       "<div>\n",
       "<style scoped>\n",
       "    .dataframe tbody tr th:only-of-type {\n",
       "        vertical-align: middle;\n",
       "    }\n",
       "\n",
       "    .dataframe tbody tr th {\n",
       "        vertical-align: top;\n",
       "    }\n",
       "\n",
       "    .dataframe thead th {\n",
       "        text-align: right;\n",
       "    }\n",
       "</style>\n",
       "<table border=\"1\" class=\"dataframe\">\n",
       "  <thead>\n",
       "    <tr style=\"text-align: right;\">\n",
       "      <th></th>\n",
       "      <th>Sex</th>\n",
       "      <th>Fare</th>\n",
       "      <th>Master</th>\n",
       "      <th>Family</th>\n",
       "      <th>Pclass_1</th>\n",
       "      <th>Pclass_2</th>\n",
       "      <th>Pclass_3</th>\n",
       "      <th>Embarked_C</th>\n",
       "      <th>Embarked_Q</th>\n",
       "      <th>Embarked_S</th>\n",
       "    </tr>\n",
       "  </thead>\n",
       "  <tbody>\n",
       "    <tr>\n",
       "      <th>0</th>\n",
       "      <td>1</td>\n",
       "      <td>7.2500</td>\n",
       "      <td>0</td>\n",
       "      <td>1</td>\n",
       "      <td>0</td>\n",
       "      <td>0</td>\n",
       "      <td>1</td>\n",
       "      <td>0</td>\n",
       "      <td>0</td>\n",
       "      <td>1</td>\n",
       "    </tr>\n",
       "    <tr>\n",
       "      <th>1</th>\n",
       "      <td>0</td>\n",
       "      <td>71.2833</td>\n",
       "      <td>0</td>\n",
       "      <td>1</td>\n",
       "      <td>1</td>\n",
       "      <td>0</td>\n",
       "      <td>0</td>\n",
       "      <td>1</td>\n",
       "      <td>0</td>\n",
       "      <td>0</td>\n",
       "    </tr>\n",
       "    <tr>\n",
       "      <th>2</th>\n",
       "      <td>0</td>\n",
       "      <td>7.9250</td>\n",
       "      <td>0</td>\n",
       "      <td>0</td>\n",
       "      <td>0</td>\n",
       "      <td>0</td>\n",
       "      <td>1</td>\n",
       "      <td>0</td>\n",
       "      <td>0</td>\n",
       "      <td>1</td>\n",
       "    </tr>\n",
       "    <tr>\n",
       "      <th>3</th>\n",
       "      <td>0</td>\n",
       "      <td>53.1000</td>\n",
       "      <td>0</td>\n",
       "      <td>1</td>\n",
       "      <td>1</td>\n",
       "      <td>0</td>\n",
       "      <td>0</td>\n",
       "      <td>0</td>\n",
       "      <td>0</td>\n",
       "      <td>1</td>\n",
       "    </tr>\n",
       "    <tr>\n",
       "      <th>4</th>\n",
       "      <td>1</td>\n",
       "      <td>8.0500</td>\n",
       "      <td>0</td>\n",
       "      <td>0</td>\n",
       "      <td>0</td>\n",
       "      <td>0</td>\n",
       "      <td>1</td>\n",
       "      <td>0</td>\n",
       "      <td>0</td>\n",
       "      <td>1</td>\n",
       "    </tr>\n",
       "    <tr>\n",
       "      <th>5</th>\n",
       "      <td>1</td>\n",
       "      <td>8.4583</td>\n",
       "      <td>0</td>\n",
       "      <td>0</td>\n",
       "      <td>0</td>\n",
       "      <td>0</td>\n",
       "      <td>1</td>\n",
       "      <td>0</td>\n",
       "      <td>1</td>\n",
       "      <td>0</td>\n",
       "    </tr>\n",
       "    <tr>\n",
       "      <th>6</th>\n",
       "      <td>1</td>\n",
       "      <td>51.8625</td>\n",
       "      <td>0</td>\n",
       "      <td>0</td>\n",
       "      <td>1</td>\n",
       "      <td>0</td>\n",
       "      <td>0</td>\n",
       "      <td>0</td>\n",
       "      <td>0</td>\n",
       "      <td>1</td>\n",
       "    </tr>\n",
       "    <tr>\n",
       "      <th>7</th>\n",
       "      <td>1</td>\n",
       "      <td>21.0750</td>\n",
       "      <td>1</td>\n",
       "      <td>0</td>\n",
       "      <td>0</td>\n",
       "      <td>0</td>\n",
       "      <td>1</td>\n",
       "      <td>0</td>\n",
       "      <td>0</td>\n",
       "      <td>1</td>\n",
       "    </tr>\n",
       "    <tr>\n",
       "      <th>8</th>\n",
       "      <td>0</td>\n",
       "      <td>11.1333</td>\n",
       "      <td>0</td>\n",
       "      <td>1</td>\n",
       "      <td>0</td>\n",
       "      <td>0</td>\n",
       "      <td>1</td>\n",
       "      <td>0</td>\n",
       "      <td>0</td>\n",
       "      <td>1</td>\n",
       "    </tr>\n",
       "    <tr>\n",
       "      <th>9</th>\n",
       "      <td>0</td>\n",
       "      <td>30.0708</td>\n",
       "      <td>0</td>\n",
       "      <td>1</td>\n",
       "      <td>0</td>\n",
       "      <td>1</td>\n",
       "      <td>0</td>\n",
       "      <td>1</td>\n",
       "      <td>0</td>\n",
       "      <td>0</td>\n",
       "    </tr>\n",
       "  </tbody>\n",
       "</table>\n",
       "</div>"
      ],
      "text/plain": [
       "   Sex     Fare  Master  Family  Pclass_1  Pclass_2  Pclass_3  Embarked_C  \\\n",
       "0    1   7.2500       0       1         0         0         1           0   \n",
       "1    0  71.2833       0       1         1         0         0           1   \n",
       "2    0   7.9250       0       0         0         0         1           0   \n",
       "3    0  53.1000       0       1         1         0         0           0   \n",
       "4    1   8.0500       0       0         0         0         1           0   \n",
       "5    1   8.4583       0       0         0         0         1           0   \n",
       "6    1  51.8625       0       0         1         0         0           0   \n",
       "7    1  21.0750       1       0         0         0         1           0   \n",
       "8    0  11.1333       0       1         0         0         1           0   \n",
       "9    0  30.0708       0       1         0         1         0           1   \n",
       "\n",
       "   Embarked_Q  Embarked_S  \n",
       "0           0           1  \n",
       "1           0           0  \n",
       "2           0           1  \n",
       "3           0           1  \n",
       "4           0           1  \n",
       "5           1           0  \n",
       "6           0           1  \n",
       "7           0           1  \n",
       "8           0           1  \n",
       "9           0           0  "
      ]
     },
     "execution_count": 18,
     "metadata": {},
     "output_type": "execute_result"
    }
   ],
   "source": [
    "train = pd.get_dummies(train)     #str타입데이터 가변수화로 one-hot인코딩 완성(데이터간의 관계성 제거)\n",
    "test = pd.get_dummies(test)       \n",
    "\n",
    "train_label = train['Survived']    #훈련 데이터의 target데이터 지정\n",
    "train_data = train.drop('Survived', axis=1)    #target데이터로 지정한 특성 삭제(학습에서 제외)\n",
    "test_data = test.drop(\"PassengerId\", axis=1).copy()    #test데이터의 승객번호는 submission파일 제출시 사용하므로 복사해두고 predict땐 필요없으므로 삭제\n",
    "train_data.head(10)       #전처리 완료된 데이터 확인"
   ]
  },
  {
   "cell_type": "markdown",
   "id": "da92a1c2",
   "metadata": {
    "papermill": {
     "duration": 0.039421,
     "end_time": "2022-06-05T10:16:53.171786",
     "exception": false,
     "start_time": "2022-06-05T10:16:53.132365",
     "status": "completed"
    },
    "tags": []
   },
   "source": [
    "# 모델 학습\n",
    "* 모델을 파라미터로 사용하면 교차검증을 통하여 훈련세트와 검증세트 각각의 점수를 확인할 수 있도록하는 함수 정의"
   ]
  },
  {
   "cell_type": "code",
   "execution_count": 19,
   "id": "07540990",
   "metadata": {
    "execution": {
     "iopub.execute_input": "2022-06-05T10:16:53.253592Z",
     "iopub.status.busy": "2022-06-05T10:16:53.253095Z",
     "iopub.status.idle": "2022-06-05T10:16:53.259776Z",
     "shell.execute_reply": "2022-06-05T10:16:53.258940Z"
    },
    "papermill": {
     "duration": 0.050492,
     "end_time": "2022-06-05T10:16:53.262069",
     "exception": false,
     "start_time": "2022-06-05T10:16:53.211577",
     "status": "completed"
    },
    "scrolled": true,
    "tags": []
   },
   "outputs": [],
   "source": [
    "def train_and_test(model):      \n",
    "    scores = cross_validate(model, train_data, train_label, return_train_score=True, n_jobs=-1)    #교차검증 처리(K=5)\n",
    "    model.fit(train_data, train_label)     #모델 학습\n",
    "    train_accuracy = np.mean(scores['train_score'])    #교차검증 과정에서의 훈련세트 점수\n",
    "    ver_accuracy = np.mean(scores['test_score'])       #교차검증 과정에서의 검증세트 점수\n",
    "    print(model, \"\\n trn : \", round(train_accuracy*100, 2), \"\\n ver : \", round(ver_accuracy*100, 2))    #위에서 구한 훈련, 검증세트 점수 출력\n",
    "    return model.predict(test_data)    #훈련한 모델에 대한 test데이터의 예측치 반환"
   ]
  },
  {
   "cell_type": "markdown",
   "id": "024a3c35",
   "metadata": {
    "papermill": {
     "duration": 0.041894,
     "end_time": "2022-06-05T10:16:53.344169",
     "exception": false,
     "start_time": "2022-06-05T10:16:53.302275",
     "status": "completed"
    },
    "tags": []
   },
   "source": [
    "* 각 모델별로 그리드서치를 통하여 하이퍼파라미터를 탐색\n",
    "* 탐색한 하이퍼파라미터가 적용된 모델을 저장\n",
    "* 하이퍼파라미터가 적용된 모델의 test데이터에 대한 predict값 저장\n",
    "* 모델의 훈련점수와 하이퍼파라미터 확인"
   ]
  },
  {
   "cell_type": "code",
   "execution_count": 20,
   "id": "952b2d92",
   "metadata": {
    "execution": {
     "iopub.execute_input": "2022-06-05T10:16:53.426763Z",
     "iopub.status.busy": "2022-06-05T10:16:53.426182Z",
     "iopub.status.idle": "2022-06-05T10:16:55.646294Z",
     "shell.execute_reply": "2022-06-05T10:16:55.645182Z"
    },
    "papermill": {
     "duration": 2.263931,
     "end_time": "2022-06-05T10:16:55.648957",
     "exception": false,
     "start_time": "2022-06-05T10:16:53.385026",
     "status": "completed"
    },
    "tags": []
   },
   "outputs": [
    {
     "name": "stdout",
     "output_type": "stream",
     "text": [
      "0.8170594837261503\n",
      "{'n_neighbors': 9}\n"
     ]
    }
   ],
   "source": [
    "params = {'n_neighbors': range(1, 20, 2)}      #최근접 이웃 모델의 이웃수는 보통 홀수로 지정하기 때문에 1~20사이에 있는 홀수로 지정\n",
    "knn_gs = GridSearchCV(KNeighborsClassifier() , params, cv=5, n_jobs=-1)     #최근접 이웃모델의 하이퍼파라미터 탐색\n",
    "knn_gs.fit(train_data, train_label)    #최근접 이웃 모델 학습\n",
    "knn_bs=knn_gs.best_estimator_          #위에서 구한 하이퍼파라미터를 적용한 모델 저장\n",
    "knn_pd = knn_bs.predict(test_data)     #하이퍼파라미터가 적용된 모델의 predic값 저장\n",
    "print(knn_bs.score(train_data, train_label))    #하이퍼파라미터가 적용된 모델의 훈련점수\n",
    "print(knn_gs.best_params_)    #하이퍼파라미터 확인"
   ]
  },
  {
   "cell_type": "code",
   "execution_count": 21,
   "id": "f1f051e0",
   "metadata": {
    "execution": {
     "iopub.execute_input": "2022-06-05T10:16:55.734762Z",
     "iopub.status.busy": "2022-06-05T10:16:55.734088Z",
     "iopub.status.idle": "2022-06-05T10:16:57.684946Z",
     "shell.execute_reply": "2022-06-05T10:16:57.683540Z"
    },
    "papermill": {
     "duration": 1.998398,
     "end_time": "2022-06-05T10:16:57.688455",
     "exception": false,
     "start_time": "2022-06-05T10:16:55.690057",
     "status": "completed"
    },
    "tags": []
   },
   "outputs": [
    {
     "name": "stdout",
     "output_type": "stream",
     "text": [
      "0.7429854096520763\n",
      "{'loss': 'log', 'max_iter': 5000, 'tol': None}\n"
     ]
    }
   ],
   "source": [
    "params = {'loss' : ['log', 'hinge'], 'max_iter' : [5000], 'tol' : [None]}     #경사하강법의 경우 log방식과 svm방식 두가지 중에서 선정\n",
    "sgd_gs = GridSearchCV(SGDClassifier(), params, cv=5, n_jobs=-1)  \n",
    "sgd_gs.fit(train_data, train_label)    \n",
    "sgd_bs=sgd_gs.best_estimator_         \n",
    "sgd_pd = sgd_bs.predict(test_data)     \n",
    "print(sgd_bs.score(train_data, train_label))    \n",
    "print(sgd_gs.best_params_)   "
   ]
  },
  {
   "cell_type": "code",
   "execution_count": 22,
   "id": "84eccbd1",
   "metadata": {
    "execution": {
     "iopub.execute_input": "2022-06-05T10:16:57.772738Z",
     "iopub.status.busy": "2022-06-05T10:16:57.772116Z",
     "iopub.status.idle": "2022-06-05T10:16:58.204828Z",
     "shell.execute_reply": "2022-06-05T10:16:58.203496Z"
    },
    "papermill": {
     "duration": 0.477588,
     "end_time": "2022-06-05T10:16:58.207368",
     "exception": false,
     "start_time": "2022-06-05T10:16:57.729780",
     "status": "completed"
    },
    "tags": []
   },
   "outputs": [
    {
     "name": "stdout",
     "output_type": "stream",
     "text": [
      "0.8170594837261503\n",
      "{'C': 10, 'max_iter': 5000}\n"
     ]
    }
   ],
   "source": [
    "params = {'C': range(10, 50, 10), 'max_iter' : [5000]}     #로지스틱 회귀의 규제 강도는 50을 잘 넘기지 않으므로 10~50까지 범위지정\n",
    "log_gs = GridSearchCV(LogisticRegression(), params, cv=5, n_jobs=-1)  \n",
    "log_gs.fit(train_data, train_label)   \n",
    "log_bs=log_gs.best_estimator_          \n",
    "log_pd = log_bs.predict(test_data)    \n",
    "print(log_bs.score(train_data, train_label))   \n",
    "print(log_gs.best_params_)"
   ]
  },
  {
   "cell_type": "code",
   "execution_count": 23,
   "id": "b723511f",
   "metadata": {
    "execution": {
     "iopub.execute_input": "2022-06-05T10:16:58.291652Z",
     "iopub.status.busy": "2022-06-05T10:16:58.291160Z",
     "iopub.status.idle": "2022-06-05T10:16:58.568824Z",
     "shell.execute_reply": "2022-06-05T10:16:58.567999Z"
    },
    "papermill": {
     "duration": 0.32257,
     "end_time": "2022-06-05T10:16:58.570976",
     "exception": false,
     "start_time": "2022-06-05T10:16:58.248406",
     "status": "completed"
    },
    "tags": []
   },
   "outputs": [
    {
     "name": "stdout",
     "output_type": "stream",
     "text": [
      "0.9180695847362514\n",
      "{'max_depth': 14}\n",
      "[0.39208365 0.33267072 0.04037748 0.08968741 0.00096816 0.00998717\n",
      " 0.09849803 0.01774409 0.00582259 0.01216071]\n"
     ]
    }
   ],
   "source": [
    "params = {'max_depth' : range(2, 16, 1)}    #결정트리의 'max_depth'파라미터는 15를 잘 넘기지 않는것을 확인하여 2~16까지 범위지정\n",
    "dt_gs = GridSearchCV(DecisionTreeClassifier(), params, cv=5, n_jobs=-1)\n",
    "dt_gs.fit(train_data, train_label)\n",
    "dt_bs=dt_gs.best_estimator_\n",
    "dt_pd = dt_bs.predict(test_data)\n",
    "print(dt_bs.score(train_data, train_label))\n",
    "print(dt_gs.best_params_)\n",
    "print(dt_bs.feature_importances_)"
   ]
  },
  {
   "cell_type": "code",
   "execution_count": 24,
   "id": "5c8791be",
   "metadata": {
    "execution": {
     "iopub.execute_input": "2022-06-05T10:16:58.656855Z",
     "iopub.status.busy": "2022-06-05T10:16:58.656312Z",
     "iopub.status.idle": "2022-06-05T10:17:06.471966Z",
     "shell.execute_reply": "2022-06-05T10:17:06.471062Z"
    },
    "papermill": {
     "duration": 7.861433,
     "end_time": "2022-06-05T10:17:06.475081",
     "exception": false,
     "start_time": "2022-06-05T10:16:58.613648",
     "status": "completed"
    },
    "tags": []
   },
   "outputs": [
    {
     "name": "stdout",
     "output_type": "stream",
     "text": [
      "0.9158249158249159\n",
      "{'max_depth': 9, 'n_estimators': 100, 'oob_score': True}\n",
      "[0.35599439 0.37212025 0.05384403 0.05620426 0.03351281 0.01918965\n",
      " 0.07038182 0.01180986 0.00913928 0.01780365]\n"
     ]
    }
   ],
   "source": [
    "params = {'max_depth' : range(2, 16, 1), 'n_estimators':[100], 'oob_score':[True]}    #랜덤포레스트의 'max_depth'파라미터는 15를 잘 넘기지 않는것을 확인하여 2~16까지 범위지정, 결정트리의 갯수는 100으로 우선 고정\n",
    "rf_gs = GridSearchCV(RandomForestClassifier(), params, cv=5, n_jobs=-1)\n",
    "rf_gs.fit(train_data, train_label)\n",
    "rf_bs=rf_gs.best_estimator_\n",
    "rf_pd = rf_bs.predict(test_data)\n",
    "print(rf_bs.score(train_data, train_label))\n",
    "print(rf_gs.best_params_)\n",
    "print(rf_bs.feature_importances_)"
   ]
  },
  {
   "cell_type": "markdown",
   "id": "b12214c3",
   "metadata": {
    "papermill": {
     "duration": 0.041593,
     "end_time": "2022-06-05T10:17:06.559072",
     "exception": false,
     "start_time": "2022-06-05T10:17:06.517479",
     "status": "completed"
    },
    "tags": []
   },
   "source": [
    "* 위에서 정의한 함수로 각 모델의 훈련, 검증세트 점수 확인\n",
    "* 이 때 파라미터는 위에서 구한 각 모델의 하이퍼파라미터를 적용"
   ]
  },
  {
   "cell_type": "code",
   "execution_count": 25,
   "id": "5702b449",
   "metadata": {
    "_kg_hide-input": true,
    "execution": {
     "iopub.execute_input": "2022-06-05T10:17:06.645788Z",
     "iopub.status.busy": "2022-06-05T10:17:06.645248Z",
     "iopub.status.idle": "2022-06-05T10:17:09.608797Z",
     "shell.execute_reply": "2022-06-05T10:17:09.607849Z"
    },
    "papermill": {
     "duration": 3.010337,
     "end_time": "2022-06-05T10:17:09.611995",
     "exception": false,
     "start_time": "2022-06-05T10:17:06.601658",
     "status": "completed"
    },
    "tags": []
   },
   "outputs": [
    {
     "name": "stdout",
     "output_type": "stream",
     "text": [
      "KNeighborsClassifier(n_neighbors=9) \n",
      " trn :  80.89 \n",
      " ver :  76.44\n",
      "LogisticRegression(C=10, max_iter=5000) \n",
      " trn :  81.37 \n",
      " ver :  80.47\n",
      "SGDClassifier(loss='log', max_iter=5000, tol=None) \n",
      " trn :  73.18 \n",
      " ver :  72.28\n",
      "DecisionTreeClassifier(max_depth=14) \n",
      " trn :  92.2 \n",
      " ver :  84.07\n",
      "RandomForestClassifier(max_depth=9, oob_score=True) \n",
      " trn :  91.67 \n",
      " ver :  82.6\n"
     ]
    }
   ],
   "source": [
    "#kNN\n",
    "knn_pred = train_and_test(KNeighborsClassifier(n_neighbors=knn_gs.best_params_['n_neighbors']))\n",
    "# Logistic Regression\n",
    "log_pred = train_and_test(LogisticRegression(C=log_gs.best_params_['C'], max_iter=5000))\n",
    "#SGDClassifier\n",
    "sgd_pred = train_and_test(SGDClassifier(loss=sgd_gs.best_params_['loss'], max_iter=5000, tol=None))\n",
    "#DecisionTreeClassifier\n",
    "dt_pred = train_and_test(DecisionTreeClassifier(max_depth=dt_gs.best_params_['max_depth']))\n",
    "#RandomForestClassifier\n",
    "rf_pred = train_and_test(RandomForestClassifier(max_depth=rf_gs.best_params_['max_depth'], n_estimators=100, oob_score=True))"
   ]
  },
  {
   "cell_type": "markdown",
   "id": "7eefffd3",
   "metadata": {
    "papermill": {
     "duration": 0.042387,
     "end_time": "2022-06-05T10:17:09.697949",
     "exception": false,
     "start_time": "2022-06-05T10:17:09.655562",
     "status": "completed"
    },
    "tags": []
   },
   "source": [
    "# 모델 결정 및 submission파일 생성\n",
    "* 검증세트의 점수가 가장 높게 확인되는 결정트리와 랜덤포레스트 두가지 모델 선정\n",
    "* 이 때 predict는 하이퍼파라미터가 적용된 모델의 예측값 사용"
   ]
  },
  {
   "cell_type": "code",
   "execution_count": 26,
   "id": "e89a4531",
   "metadata": {
    "execution": {
     "iopub.execute_input": "2022-06-05T10:17:09.785250Z",
     "iopub.status.busy": "2022-06-05T10:17:09.784921Z",
     "iopub.status.idle": "2022-06-05T10:17:09.795153Z",
     "shell.execute_reply": "2022-06-05T10:17:09.794404Z"
    },
    "papermill": {
     "duration": 0.056694,
     "end_time": "2022-06-05T10:17:09.797502",
     "exception": false,
     "start_time": "2022-06-05T10:17:09.740808",
     "status": "completed"
    },
    "tags": []
   },
   "outputs": [],
   "source": [
    "submission = pd.DataFrame({\n",
    "    \"PassengerId\": test[\"PassengerId\"],\n",
    "    \"Survived\": dt_pd\n",
    "})\n",
    "#test데이터의 승객번호와 predict값을 합성하여 데이터 생성\n",
    "submission.to_csv('submission.csv', index=False)    #생성된 데이터를 csv파일로 저장"
   ]
  },
  {
   "cell_type": "code",
   "execution_count": 27,
   "id": "3cdae6c0",
   "metadata": {
    "execution": {
     "iopub.execute_input": "2022-06-05T10:17:09.893529Z",
     "iopub.status.busy": "2022-06-05T10:17:09.892546Z",
     "iopub.status.idle": "2022-06-05T10:17:09.901235Z",
     "shell.execute_reply": "2022-06-05T10:17:09.900372Z"
    },
    "papermill": {
     "duration": 0.063811,
     "end_time": "2022-06-05T10:17:09.904526",
     "exception": false,
     "start_time": "2022-06-05T10:17:09.840715",
     "status": "completed"
    },
    "tags": []
   },
   "outputs": [],
   "source": [
    "submission = pd.DataFrame({\n",
    "    \"PassengerId\": test[\"PassengerId\"],\n",
    "    \"Survived\": rf_pd\n",
    "})\n",
    "\n",
    "submission.to_csv('submission_rf.csv', index=False)"
   ]
  }
 ],
 "metadata": {
  "kernelspec": {
   "display_name": "Python 3",
   "language": "python",
   "name": "python3"
  },
  "language_info": {
   "codemirror_mode": {
    "name": "ipython",
    "version": 3
   },
   "file_extension": ".py",
   "mimetype": "text/x-python",
   "name": "python",
   "nbconvert_exporter": "python",
   "pygments_lexer": "ipython3",
   "version": "3.7.12"
  },
  "papermill": {
   "default_parameters": {},
   "duration": 33.907585,
   "end_time": "2022-06-05T10:17:12.584858",
   "environment_variables": {},
   "exception": null,
   "input_path": "__notebook__.ipynb",
   "output_path": "__notebook__.ipynb",
   "parameters": {},
   "start_time": "2022-06-05T10:16:38.677273",
   "version": "2.3.4"
  }
 },
 "nbformat": 4,
 "nbformat_minor": 5
}
